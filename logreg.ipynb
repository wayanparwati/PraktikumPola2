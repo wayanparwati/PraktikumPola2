{
  "nbformat": 4,
  "nbformat_minor": 0,
  "metadata": {
    "colab": {
      "provenance": []
    },
    "kernelspec": {
      "name": "python3",
      "display_name": "Python 3"
    },
    "language_info": {
      "name": "python"
    }
  },
  "cells": [
    {
      "cell_type": "code",
      "execution_count": 2,
      "metadata": {
        "colab": {
          "base_uri": "https://localhost:8080/"
        },
        "id": "cfVFM34QptsX",
        "outputId": "960e31b3-f086-45f8-b3e1-4cd76d844548"
      },
      "outputs": [
        {
          "output_type": "stream",
          "name": "stdout",
          "text": [
            "Model test Score: 0.944,  Model training Score: 0.960\n"
          ]
        }
      ],
      "source": [
        "#Impor Library \n",
        "import numpy as np\n",
        "from sklearn import datasets\n",
        "from sklearn.model_selection import train_test_split\n",
        "#from sklearn.preprocessing import StandardScaler\n",
        "from sklearn.linear_model import LogisticRegression\n",
        "from sklearn.pipeline import make_pipeline\n",
        "from sklearn.ensemble import BaggingClassifier\n",
        "#from sklearn.model_selection import GridSearchCV\n",
        "\n",
        "#Load cancer dataset\n",
        "bc = datasets.load_breast_cancer()\n",
        "X = bc.data\n",
        "y = bc.target\n",
        "\n",
        "#membagi dataset \n",
        "X_train, X_test, y_train, y_test = train_test_split(X, y, test_size=0.25, random_state=1, stratify=y)\n",
        "\n",
        "lr =  LogisticRegression(solver='liblinear') \n",
        "lr.fit(X_train,y_train) \n",
        "\n",
        "print('Model test Score: %.3f, ' %lr.score(X_test, y_test),\n",
        "      'Model training Score: %.3f' %lr.score(X_train, y_train))\n"
      ]
    }
  ]
}